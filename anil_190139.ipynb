{
  "nbformat": 4,
  "nbformat_minor": 0,
  "metadata": {
    "colab": {
      "provenance": [],
      "authorship_tag": "ABX9TyOf9RPH08SPyc2CNrMnDbhh",
      "include_colab_link": true
    },
    "kernelspec": {
      "name": "python3",
      "display_name": "Python 3"
    },
    "language_info": {
      "name": "python"
    }
  },
  "cells": [
    {
      "cell_type": "markdown",
      "metadata": {
        "id": "view-in-github",
        "colab_type": "text"
      },
      "source": [
        "<a href=\"https://colab.research.google.com/github/Priyanshu0651/AICity/blob/master/anil_190139.ipynb\" target=\"_parent\"><img src=\"https://colab.research.google.com/assets/colab-badge.svg\" alt=\"Open In Colab\"/></a>"
      ]
    },
    {
      "cell_type": "markdown",
      "source": [
        "Anil - 190139"
      ],
      "metadata": {
        "id": "UGcclfD0EHEs"
      }
    },
    {
      "cell_type": "code",
      "execution_count": 1,
      "metadata": {
        "id": "hvQQYIMgw01Z"
      },
      "outputs": [],
      "source": [
        "import numpy as np"
      ]
    },
    {
      "cell_type": "code",
      "source": [
        "def jacob(x,y):\n",
        "  r11 = 2*x + y\n",
        "  r12 = x\n",
        "  r21 = 3*(y**2)\n",
        "  r22 = 6*x*y + 1\n",
        "\n",
        "  return np.asarray([[r11,r12],[r21,r22]])"
      ],
      "metadata": {
        "id": "apmhX2r51aj8"
      },
      "execution_count": 37,
      "outputs": []
    },
    {
      "cell_type": "code",
      "source": [
        "def solve(matrix,n):\n",
        "  for k in range(n-1):\n",
        "    for i in range(n):\n",
        "      l=matrix[i][k]\n",
        "      for j in range(n):\n",
        "        if(i!=k):\n",
        "          matrix[i][j]=(matrix[k][k]*matrix[i][j]-l*matrix[k][j])\n",
        "\n",
        "  return matrix"
      ],
      "metadata": {
        "id": "a8bFDRQSANbs"
      },
      "execution_count": 38,
      "outputs": []
    },
    {
      "cell_type": "code",
      "source": [
        "f1 = lambda x,y: x**2 + x*y - 10\n",
        "f2 = lambda x,y: 3*x*y**2 + y - 57 "
      ],
      "metadata": {
        "id": "c8jAAEMU7gsz"
      },
      "execution_count": 40,
      "outputs": []
    },
    {
      "cell_type": "code",
      "source": [
        "er = 1\n",
        "e_required  = 1e-6\n",
        "\n",
        "x = 1.5\n",
        "y = 3.5\n",
        "\n",
        "deltax = 0\n",
        "deltay = 0\n",
        "\n",
        "while er>e_required:\n",
        "  j = jacob(x,y)\n",
        "  mat = [[j[0][0],j[0][1],f1(x,y)],[j[1][0],j[1][1],f2(x,y)]]\n",
        "  \n",
        "  mat = solve(mat,2)\n",
        "\n",
        "  deltay = mat[1][-1]/mat[1][-2]\n",
        "  deltax = (mat[0][-1] - deltay*mat[0][1])/mat[0][0]\n",
        "\n",
        "  er = max(abs(deltax),abs(deltay))\n",
        "\n",
        "  x = x + deltax\n",
        "  y = y + deltay  \n",
        "\n",
        "\n",
        "print(\"roots are: \", 'x: ',x,'y: ',y)"
      ],
      "metadata": {
        "colab": {
          "base_uri": "https://localhost:8080/"
        },
        "id": "n34XJhBh7b8q",
        "outputId": "c549b31b-e137-4698-96a0-97d6ecc35ffa"
      },
      "execution_count": 48,
      "outputs": [
        {
          "output_type": "stream",
          "name": "stdout",
          "text": [
            "roots are:  x:  2 y:  3\n"
          ]
        }
      ]
    },
    {
      "cell_type": "code",
      "source": [
        "# check\n",
        "print(f1(2,3),f2(2,3))"
      ],
      "metadata": {
        "colab": {
          "base_uri": "https://localhost:8080/"
        },
        "id": "IFaosJnd9uJ8",
        "outputId": "637c6272-7fda-459a-bd93-742034c78a25"
      },
      "execution_count": 49,
      "outputs": [
        {
          "output_type": "stream",
          "name": "stdout",
          "text": [
            "0 0\n"
          ]
        }
      ]
    },
    {
      "cell_type": "code",
      "source": [],
      "metadata": {
        "id": "noSe_GkSDtYP"
      },
      "execution_count": null,
      "outputs": []
    }
  ]
}